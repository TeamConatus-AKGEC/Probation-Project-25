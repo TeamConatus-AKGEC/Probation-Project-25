{
 "cells": [
  {
   "cell_type": "code",
   "execution_count": 1,
   "id": "8a59399f-2135-4fb5-a2b3-430fdc8192e4",
   "metadata": {},
   "outputs": [
    {
     "name": "stdout",
     "output_type": "stream",
     "text": [
      "       Status Age Group    Education    Industry   Location   AI Risk  \\\n",
      "0    Employed     25-34  High School  Technology      Urban       Nan   \n",
      "1    Employed     18-24      Diploma     Fintech      Rural  Moderate   \n",
      "2    Employed     25-34  High School      Retail      Delhi       Low   \n",
      "3  Unemployed     18-24      Masters      Retail      Urban       Low   \n",
      "4         Nan     45-54      Diploma     Fintech  Hyderabad       Low   \n",
      "\n",
      "   Years of Experience  Monthly Salary (INR) Date Recorded  \n",
      "0                 16.0               40700.0    2023-01-01  \n",
      "1                 16.0               17500.0    2023-01-02  \n",
      "2                 16.0               77600.0    2023-01-03  \n",
      "3                 30.0              100200.0    2023-01-04  \n",
      "4                  9.0               19500.0    2023-01-05  \n"
     ]
    }
   ],
   "source": [
    "import pandas as pd\n",
    "df = pd.read_csv(\"DataClean.csv\")\n",
    "text_cols = ['Status', 'Education', 'Industry', 'Location', 'AI Risk']\n",
    "for col in text_cols:\n",
    "    df[col] = df[col].astype(str).str.strip().str.title()\n",
    "age_col = df['Age Group'].astype(str)\n",
    "age_col = age_col.str.replace('_', ' ', regex=False)\n",
    "age_col = age_col.str.replace('-', ' ', regex=False)\n",
    "age_col = age_col.str.replace('to', ' ', regex=False)\n",
    "age_col = age_col.str.replace('  ', ' ', regex=False)\n",
    "age_col = age_col.str.replace('  ', ' ', regex=False)\n",
    "age_col = age_col.str.strip().str.replace(' ', '-', regex=False)\n",
    "df['Age Group'] = age_col\n",
    "df['Date Recorded'] = pd.to_datetime(df['Date Recorded'], errors='coerce')\n",
    "for col in text_cols + ['Age Group']:\n",
    "    df[col] = df[col].replace('nan', 'Unknown')\n",
    "median_years = df['Years of Experience'].median()\n",
    "median_salary = df['Monthly Salary (INR)'].median()\n",
    "df['Years of Experience'] = df['Years of Experience'].fillna(median_years)\n",
    "df['Monthly Salary (INR)'] = df['Monthly Salary (INR)'].fillna(median_salary)\n",
    "print(df.head())"
   ]
  },
  {
   "cell_type": "code",
   "execution_count": null,
   "id": "255a6682-634f-44bf-aef8-0f2f6ffeebb0",
   "metadata": {},
   "outputs": [],
   "source": []
  }
 ],
 "metadata": {
  "kernelspec": {
   "display_name": "Python 3 (ipykernel)",
   "language": "python",
   "name": "python3"
  },
  "language_info": {
   "codemirror_mode": {
    "name": "ipython",
    "version": 3
   },
   "file_extension": ".py",
   "mimetype": "text/x-python",
   "name": "python",
   "nbconvert_exporter": "python",
   "pygments_lexer": "ipython3",
   "version": "3.13.5"
  }
 },
 "nbformat": 4,
 "nbformat_minor": 5
}
